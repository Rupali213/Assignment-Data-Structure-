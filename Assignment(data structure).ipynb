{
 "cells": [
  {
   "cell_type": "markdown",
   "id": "866db91e-c72f-4716-add5-6945c5df461b",
   "metadata": {},
   "source": [
    "### 1. Discuss string slicing and provide example"
   ]
  },
  {
   "cell_type": "code",
   "execution_count": 2,
   "id": "f714a7ca-c0f5-4a42-94f2-4f30292541a6",
   "metadata": {},
   "outputs": [
    {
     "data": {
      "text/plain": [
       "'Rupa'"
      ]
     },
     "execution_count": 2,
     "metadata": {},
     "output_type": "execute_result"
    }
   ],
   "source": [
    "#String- String is a sequence of character that we put inside (\" \") double quote or single quote('').\n",
    "#slicing- slicing allow us to extract desirable portion inside string.\n",
    "#Here, string slicing means to access individual element or portion using indexing.\n",
    "\n",
    "#Example\n",
    "a=\"Rupali\"\n",
    "a[0:4]\n",
    "    "
   ]
  },
  {
   "cell_type": "markdown",
   "id": "ed81d579-4511-4f68-8f52-0518bf756704",
   "metadata": {},
   "source": [
    "###  Explain the key features of lists in Python"
   ]
  },
  {
   "cell_type": "code",
   "execution_count": null,
   "id": "624b6dec-cba8-4326-b4c2-4a3db13136ff",
   "metadata": {},
   "outputs": [],
   "source": [
    "list is ordered collection of hetrogeneous data, it can store string,float,int,nested list ,set ,tuple,dictionary inside it.\n",
    "As,it is ordered collection so element inside it can be accessed using indexing\n",
    "It is mutable\n",
    "As it is mutable we can  use append,insert,remove,pop,dlt function"
   ]
  },
  {
   "cell_type": "markdown",
   "id": "3100f9b7-1daa-43c3-b41c-093bffc33a81",
   "metadata": {},
   "source": [
    "### Describe how to access, modify, and delete elements in a list with examples"
   ]
  },
  {
   "cell_type": "code",
   "execution_count": 1,
   "id": "193293e9-c0e5-4bd4-aedb-1caab638df73",
   "metadata": {},
   "outputs": [
    {
     "data": {
      "text/plain": [
       "['hello world', 1, 'vegetables', 23]"
      ]
     },
     "execution_count": 1,
     "metadata": {},
     "output_type": "execute_result"
    }
   ],
   "source": [
    "#To access data from list we use indexing\n",
    "#example\n",
    "a=\"hello\"\n",
    "a[0]\n",
    "\n",
    "#To modify data inside list we can use append,insert,extend,concatenate,remove,sortand dlt function\n",
    "#example\n",
    "a=[\"hello world\",1,\"fruits\",\"vegetables\",23]\n",
    "a.append(24)\n",
    "a.insert(1,\"Rupali\")\n",
    "a\n",
    "\n",
    "#To delete element\n",
    "a=[\"hello world\",1,\"fruits\",\"vegetables\",23]\n",
    "a.remove(\"fruits\")\n",
    "a\n",
    "\n",
    "\n"
   ]
  },
  {
   "cell_type": "markdown",
   "id": "d6a8f7f6-3613-4cbf-980c-3d2e732fec37",
   "metadata": {},
   "source": [
    "### Compare and contrast tuples and lists with example"
   ]
  },
  {
   "cell_type": "code",
   "execution_count": null,
   "id": "f5d8bc4f-2870-4929-afe3-71e722f89937",
   "metadata": {},
   "outputs": [],
   "source": [
    "tuple                                                                         list\n",
    "#immutable                                                                   # mutable\n",
    "#ordered collection of data                                                  # ordered collection of data\n",
    "#store heterogeneous data types (e.g., integers, strings, floats).           # store heterogeneous data type       \n",
    "#can't store mutable data stucture inside it                                 # can store mutable data stucture inside it\n",
    "#we use () bracket for tuple                                                 # we use[] bracket for list"
   ]
  },
  {
   "cell_type": "markdown",
   "id": "a1cc78df-27ec-47ad-a0c5-af8db8be0bb7",
   "metadata": {},
   "source": [
    "###  Describe the key features of sets and provide examples of their use"
   ]
  },
  {
   "cell_type": "code",
   "execution_count": 14,
   "id": "fd9028eb-e20d-401c-81e9-7f29a7cfb1af",
   "metadata": {},
   "outputs": [
    {
     "data": {
      "text/plain": [
       "{1, 2, 4, 5, 6, 7, 13}"
      ]
     },
     "execution_count": 14,
     "metadata": {},
     "output_type": "execute_result"
    }
   ],
   "source": [
    "#set is unordered collection of data ,stores unique value inside it.\n",
    "#it is mutable but stores immutable data structure(tuple) inside it .\n",
    "#As it is unordered collection of data so we can access element using indexing\n",
    "#can be used to remove dublicate value \n",
    "a={1,2,4,13,5,6,7,7,7,4}\n",
    "a\n"
   ]
  },
  {
   "cell_type": "markdown",
   "id": "3aff87e7-1115-4fb8-9045-704851b3cf11",
   "metadata": {},
   "source": [
    "###  Discuss the use cases of tuples and sets in Python programming"
   ]
  },
  {
   "cell_type": "code",
   "execution_count": null,
   "id": "cb238a41-e9ee-462c-8d59-dfc79102116a",
   "metadata": {},
   "outputs": [],
   "source": [
    "tuples are used for that kind of data that can't be change in the future like employee id \n",
    "sets are used to extract all dublicate element and to find unique collection of data"
   ]
  },
  {
   "cell_type": "markdown",
   "id": "9fe750b3-5e7b-435d-98de-39c14755dce7",
   "metadata": {},
   "source": [
    "###  Describe how to add, modify, and delete items in a dictionary with example"
   ]
  },
  {
   "cell_type": "code",
   "execution_count": 24,
   "id": "90da9c34-4def-4e53-857b-134e4b952b63",
   "metadata": {},
   "outputs": [
    {
     "ename": "NameError",
     "evalue": "name 'dict' is not defined",
     "output_type": "error",
     "traceback": [
      "\u001b[1;31m---------------------------------------------------------------------------\u001b[0m",
      "\u001b[1;31mNameError\u001b[0m                                 Traceback (most recent call last)",
      "Cell \u001b[1;32mIn[24], line 11\u001b[0m\n\u001b[0;32m      1\u001b[0m \u001b[38;5;66;03m#Example\u001b[39;00m\n\u001b[0;32m      2\u001b[0m \u001b[38;5;66;03m#dict={\"fruit\":\"apple\",\"vegetable\":\"onion\",\"animal\":\"cat\"}\u001b[39;00m\n\u001b[0;32m      3\u001b[0m \u001b[38;5;66;03m#dict[\"flower\"]=\"rose\" (#to add new key value pair)\u001b[39;00m\n\u001b[1;32m   (...)\u001b[0m\n\u001b[0;32m      9\u001b[0m \n\u001b[0;32m     10\u001b[0m \u001b[38;5;66;03m#To delete element\u001b[39;00m\n\u001b[1;32m---> 11\u001b[0m \u001b[38;5;28;01mdel\u001b[39;00m \u001b[38;5;28;43mdict\u001b[39;49m\n\u001b[0;32m     12\u001b[0m \u001b[38;5;28mdict\u001b[39m\n",
      "\u001b[1;31mNameError\u001b[0m: name 'dict' is not defined"
     ]
    }
   ],
   "source": [
    "#Example\n",
    "#dict={\"fruit\":\"apple\",\"vegetable\":\"onion\",\"animal\":\"cat\"}\n",
    "#dict[\"flower\"]=\"rose\" (#to add new key value pair)\n",
    "#dict\n",
    "\n",
    "#To modify element\n",
    "#dict[\"fruit\"]= \"mango\"\n",
    "#dict\n",
    "\n",
    "#To delete element\n",
    "del dict\n",
    "dict\n",
    "\n",
    "\n",
    "\n"
   ]
  },
  {
   "cell_type": "markdown",
   "id": "bc8fed99-f3e3-4967-930f-9b586d89367b",
   "metadata": {},
   "source": [
    "### Discuss the importance of dictionary keys being immutable and provide examples"
   ]
  },
  {
   "cell_type": "code",
   "execution_count": 28,
   "id": "d926c8ff-dbda-4634-b27c-cd700b963247",
   "metadata": {},
   "outputs": [
    {
     "ename": "TypeError",
     "evalue": "unhashable type: 'list'",
     "output_type": "error",
     "traceback": [
      "\u001b[1;31m---------------------------------------------------------------------------\u001b[0m",
      "\u001b[1;31mTypeError\u001b[0m                                 Traceback (most recent call last)",
      "Cell \u001b[1;32mIn[28], line 5\u001b[0m\n\u001b[0;32m      1\u001b[0m \u001b[38;5;66;03m#Since keys are immutable, their values remain constant throughout the program’s execution\u001b[39;00m\n\u001b[0;32m      2\u001b[0m \u001b[38;5;66;03m#dict={\"name\":\"rupali\",\"id\":123}\u001b[39;00m\n\u001b[0;32m      3\u001b[0m \u001b[38;5;66;03m#dict\u001b[39;00m\n\u001b[1;32m----> 5\u001b[0m \u001b[38;5;28mdict\u001b[39m\u001b[38;5;241m=\u001b[39m{[\u001b[38;5;241m1\u001b[39m,\u001b[38;5;241m2\u001b[39m]:\u001b[38;5;124m\"\u001b[39m\u001b[38;5;124mrupali\u001b[39m\u001b[38;5;124m\"\u001b[39m}\n\u001b[0;32m      6\u001b[0m \u001b[38;5;28mdict\u001b[39m\n",
      "\u001b[1;31mTypeError\u001b[0m: unhashable type: 'list'"
     ]
    }
   ],
   "source": [
    "#Since keys are immutable, their values remain constant throughout the program’s execution\n",
    "#dict={\"name\":\"rupali\",\"id\":123}\n",
    "#dict\n",
    "\n",
    "dict={[1,2]:\"rupali\"} #keys are immutable\n",
    "dict\n"
   ]
  },
  {
   "cell_type": "code",
   "execution_count": null,
   "id": "243abc20-e6ff-4e87-ba8e-d2f2ede34fc1",
   "metadata": {},
   "outputs": [],
   "source": []
  },
  {
   "cell_type": "code",
   "execution_count": null,
   "id": "79723393-14d8-414f-b879-b8e2a8696d54",
   "metadata": {},
   "outputs": [],
   "source": []
  },
  {
   "cell_type": "code",
   "execution_count": null,
   "id": "8d46c5cf-2de4-4fe6-acda-9b87eb0f4cc9",
   "metadata": {},
   "outputs": [],
   "source": []
  },
  {
   "cell_type": "code",
   "execution_count": null,
   "id": "cc4957d6-0184-475e-b28d-1928ea3c43a5",
   "metadata": {},
   "outputs": [],
   "source": []
  },
  {
   "cell_type": "code",
   "execution_count": null,
   "id": "d9b00339-e334-485d-9ba1-dc7173c02bc6",
   "metadata": {},
   "outputs": [],
   "source": []
  }
 ],
 "metadata": {
  "kernelspec": {
   "display_name": "Python 3 (ipykernel)",
   "language": "python",
   "name": "python3"
  },
  "language_info": {
   "codemirror_mode": {
    "name": "ipython",
    "version": 3
   },
   "file_extension": ".py",
   "mimetype": "text/x-python",
   "name": "python",
   "nbconvert_exporter": "python",
   "pygments_lexer": "ipython3",
   "version": "3.12.3"
  }
 },
 "nbformat": 4,
 "nbformat_minor": 5
}
